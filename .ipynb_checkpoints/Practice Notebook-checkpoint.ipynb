{
 "cells": [
  {
   "cell_type": "code",
   "execution_count": 1,
   "id": "c33d85cc",
   "metadata": {},
   "outputs": [],
   "source": [
    "z = 2/3"
   ]
  },
  {
   "cell_type": "code",
   "execution_count": 5,
   "id": "56b23a42",
   "metadata": {},
   "outputs": [
    {
     "name": "stdout",
     "output_type": "stream",
     "text": [
      "0.67\n"
     ]
    }
   ],
   "source": [
    "print(f\"{z:.2f}\")"
   ]
  },
  {
   "cell_type": "code",
   "execution_count": 1,
   "id": "3f22e7f5",
   "metadata": {},
   "outputs": [
    {
     "name": "stdout",
     "output_type": "stream",
     "text": [
      "Hermoine Gryffindor\n",
      "Harry Gryffindor\n",
      "Ron Gryffindor\n",
      "Draco Slytherin\n"
     ]
    }
   ],
   "source": [
    "students = {\n",
    "    \"Hermoine\": \"Gryffindor\",\n",
    "    \"Harry\": \"Gryffindor\",\n",
    "    \"Ron\": \"Gryffindor\",\n",
    "    \"Draco\": \"Slytherin\",\n",
    "}\n",
    "for student in students:\n",
    "    print(student, students[student])"
   ]
  },
  {
   "cell_type": "code",
   "execution_count": 2,
   "id": "6df7781e",
   "metadata": {},
   "outputs": [
    {
     "name": "stdout",
     "output_type": "stream",
     "text": [
      "Hermoine, Gryffindor\n",
      "Harry, Gryffindor\n",
      "Ron, Gryffindor\n",
      "Draco, Slytherin\n"
     ]
    }
   ],
   "source": [
    "students = {\n",
    "    \"Hermoine\": \"Gryffindor\",\n",
    "    \"Harry\": \"Gryffindor\",\n",
    "    \"Ron\": \"Gryffindor\",\n",
    "    \"Draco\": \"Slytherin\",\n",
    "}\n",
    "for student in students:\n",
    "    print(student, students[student], sep=\", \")"
   ]
  },
  {
   "cell_type": "code",
   "execution_count": 3,
   "id": "4e34ad39",
   "metadata": {},
   "outputs": [
    {
     "name": "stdout",
     "output_type": "stream",
     "text": [
      "Hermoine, Gryffindor, Otter\n",
      "Harry, Gryffindor, Stag\n",
      "Ron, Gryffindor, Jack Russell terrier\n",
      "Draco, Slytherin, None\n"
     ]
    }
   ],
   "source": [
    "students = [\n",
    "    {\"name\": \"Hermoine\", \"house\": \"Gryffindor\", \"patronus\": \"Otter\"},\n",
    "    {\"name\": \"Harry\", \"house\": \"Gryffindor\", \"patronus\": \"Stag\"},\n",
    "    {\"name\": \"Ron\", \"house\": \"Gryffindor\", \"patronus\": \"Jack Russell terrier\"},\n",
    "    {\"name\": \"Draco\", \"house\": \"Slytherin\", \"patronus\": None},\n",
    "]\n",
    "\n",
    "for student in students:\n",
    "    print(student[\"name\"], student[\"house\"], student[\"patronus\"], sep=\", \")"
   ]
  },
  {
   "cell_type": "code",
   "execution_count": 4,
   "id": "ebe2bf23",
   "metadata": {},
   "outputs": [
    {
     "name": "stdout",
     "output_type": "stream",
     "text": [
      "#\n",
      "#\n",
      "#\n"
     ]
    }
   ],
   "source": [
    "def main():\n",
    "    print_column(3)\n",
    "\n",
    "\n",
    "def print_column(height):\n",
    "    for _ in range(height):\n",
    "        print(\"#\")\n",
    "\n",
    "\n",
    "main()"
   ]
  },
  {
   "cell_type": "code",
   "execution_count": 5,
   "id": "a995d848",
   "metadata": {
    "scrolled": true
   },
   "outputs": [
    {
     "name": "stdout",
     "output_type": "stream",
     "text": [
      "###\n",
      "###\n",
      "###\n"
     ]
    }
   ],
   "source": [
    "def main():\n",
    "    print_square(3)\n",
    "\n",
    "\n",
    "def print_square(size):\n",
    "\n",
    "    # For each row in square\n",
    "    for i in range(size):\n",
    "\n",
    "        # For each brick in row\n",
    "        for j in range(size):\n",
    "\n",
    "            #  Print brick\n",
    "            print(\"#\", end=\"\")\n",
    "\n",
    "        # Print blank line\n",
    "        print()\n",
    "\n",
    "\n",
    "main()"
   ]
  },
  {
   "cell_type": "code",
   "execution_count": 6,
   "id": "f5532319",
   "metadata": {},
   "outputs": [
    {
     "name": "stdout",
     "output_type": "stream",
     "text": [
      "###\n",
      "###\n",
      "###\n"
     ]
    }
   ],
   "source": [
    "def main():\n",
    "    print_square(3)\n",
    "\n",
    "\n",
    "def print_square(size):\n",
    "    for i in range(size):\n",
    "        print_row(size)\n",
    "\n",
    "\n",
    "def print_row(width):\n",
    "    print(\"#\" * width)\n",
    "\n",
    "\n",
    "main()"
   ]
  },
  {
   "cell_type": "code",
   "execution_count": 11,
   "id": "5be61b12",
   "metadata": {},
   "outputs": [
    {
     "name": "stdout",
     "output_type": "stream",
     "text": [
      "first_name"
     ]
    }
   ],
   "source": [
    "camel = 'firstName'\n",
    "for letter in camel:\n",
    "    if letter.isupper():\n",
    "        print('_'+letter.lower(),end='')\n",
    "    else:\n",
    "        print(letter, end='')\n",
    "    "
   ]
  },
  {
   "cell_type": "code",
   "execution_count": 12,
   "id": "b293d099",
   "metadata": {},
   "outputs": [
    {
     "name": "stdout",
     "output_type": "stream",
     "text": [
      "first_name\n"
     ]
    }
   ],
   "source": [
    "def camel_to_snake(camel):\n",
    "    #create variable to hold return string\n",
    "    snake = ''\n",
    "    \n",
    "    #parse input to check for case and replace upper case with underscore and lower case\n",
    "    for letter in camel:\n",
    "        if letter.isupper():\n",
    "            snake = snake + '_'+letter.lower()\n",
    "        else:\n",
    "            snake = snake + letter\n",
    "    \n",
    "    return(snake)\n",
    "\n",
    "camel = 'firstName'\n",
    "print(camel_to_snake(camel))"
   ]
  },
  {
   "cell_type": "code",
   "execution_count": 13,
   "id": "65be6753",
   "metadata": {},
   "outputs": [],
   "source": [
    "num = -7"
   ]
  },
  {
   "cell_type": "code",
   "execution_count": 14,
   "id": "6a06f209",
   "metadata": {},
   "outputs": [
    {
     "data": {
      "text/plain": [
       "-7"
      ]
     },
     "execution_count": 14,
     "metadata": {},
     "output_type": "execute_result"
    }
   ],
   "source": [
    "num"
   ]
  },
  {
   "cell_type": "code",
   "execution_count": 20,
   "id": "d28d41bf",
   "metadata": {},
   "outputs": [],
   "source": [
    "plate = 'CS50'"
   ]
  },
  {
   "cell_type": "code",
   "execution_count": 8,
   "id": "d8723c45",
   "metadata": {},
   "outputs": [
    {
     "data": {
      "text/plain": [
       "'AB'"
      ]
     },
     "execution_count": 8,
     "metadata": {},
     "output_type": "execute_result"
    }
   ],
   "source": [
    "plate[0:2]"
   ]
  },
  {
   "cell_type": "code",
   "execution_count": 7,
   "id": "db19ad72",
   "metadata": {},
   "outputs": [
    {
     "data": {
      "text/plain": [
       "True"
      ]
     },
     "execution_count": 7,
     "metadata": {},
     "output_type": "execute_result"
    }
   ],
   "source": [
    "2 <= len(plate) <=6"
   ]
  },
  {
   "cell_type": "code",
   "execution_count": 22,
   "id": "e9ff7d45",
   "metadata": {},
   "outputs": [
    {
     "ename": "SyntaxError",
     "evalue": "invalid syntax (680017025.py, line 8)",
     "output_type": "error",
     "traceback": [
      "\u001b[0;36m  Input \u001b[0;32mIn [22]\u001b[0;36m\u001b[0m\n\u001b[0;31m    if i == '0' and pos=2:\u001b[0m\n\u001b[0m                       ^\u001b[0m\n\u001b[0;31mSyntaxError\u001b[0m\u001b[0;31m:\u001b[0m invalid syntax\n"
     ]
    }
   ],
   "source": [
    "def check_chars(p):\n",
    "    valid_chars = True\n",
    "    pos = 2\n",
    "    #check that numbers are only at the end\n",
    "    #check that the first number is not 0\n",
    "    for i in p[2:]:\n",
    "        if i.isdigit():\n",
    "            if i == '0' and pos == 2:\n",
    "                valid_chars = False\n",
    "            else:\n",
    "                valid_chars = True\n",
    "        else:\n",
    "            pos += 1\n",
    "        \n",
    "    if not p[pos:].isdigit():\n",
    "        valid_chars = False\n",
    "    \n",
    "    return (valid_chars)        \n",
    "\n",
    "check_chars(plate)\n"
   ]
  },
  {
   "cell_type": "code",
   "execution_count": null,
   "id": "4da1dcf6",
   "metadata": {},
   "outputs": [],
   "source": []
  }
 ],
 "metadata": {
  "kernelspec": {
   "display_name": "Python 3 (ipykernel)",
   "language": "python",
   "name": "python3"
  },
  "language_info": {
   "codemirror_mode": {
    "name": "ipython",
    "version": 3
   },
   "file_extension": ".py",
   "mimetype": "text/x-python",
   "name": "python",
   "nbconvert_exporter": "python",
   "pygments_lexer": "ipython3",
   "version": "3.9.12"
  }
 },
 "nbformat": 4,
 "nbformat_minor": 5
}
