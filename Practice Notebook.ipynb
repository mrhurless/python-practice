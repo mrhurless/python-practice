{
 "cells": [
  {
   "cell_type": "code",
   "execution_count": 1,
   "id": "c33d85cc",
   "metadata": {},
   "outputs": [],
   "source": [
    "z = 2/3"
   ]
  },
  {
   "cell_type": "code",
   "execution_count": 5,
   "id": "56b23a42",
   "metadata": {},
   "outputs": [
    {
     "name": "stdout",
     "output_type": "stream",
     "text": [
      "0.67\n"
     ]
    }
   ],
   "source": [
    "print(f\"{z:.2f}\")"
   ]
  },
  {
   "cell_type": "code",
   "execution_count": 1,
   "id": "3f22e7f5",
   "metadata": {},
   "outputs": [
    {
     "name": "stdout",
     "output_type": "stream",
     "text": [
      "Hermoine Gryffindor\n",
      "Harry Gryffindor\n",
      "Ron Gryffindor\n",
      "Draco Slytherin\n"
     ]
    }
   ],
   "source": [
    "students = {\n",
    "    \"Hermoine\": \"Gryffindor\",\n",
    "    \"Harry\": \"Gryffindor\",\n",
    "    \"Ron\": \"Gryffindor\",\n",
    "    \"Draco\": \"Slytherin\",\n",
    "}\n",
    "for student in students:\n",
    "    print(student, students[student])"
   ]
  },
  {
   "cell_type": "code",
   "execution_count": 2,
   "id": "6df7781e",
   "metadata": {},
   "outputs": [
    {
     "name": "stdout",
     "output_type": "stream",
     "text": [
      "Hermoine, Gryffindor\n",
      "Harry, Gryffindor\n",
      "Ron, Gryffindor\n",
      "Draco, Slytherin\n"
     ]
    }
   ],
   "source": [
    "students = {\n",
    "    \"Hermoine\": \"Gryffindor\",\n",
    "    \"Harry\": \"Gryffindor\",\n",
    "    \"Ron\": \"Gryffindor\",\n",
    "    \"Draco\": \"Slytherin\",\n",
    "}\n",
    "for student in students:\n",
    "    print(student, students[student], sep=\", \")"
   ]
  },
  {
   "cell_type": "code",
   "execution_count": 3,
   "id": "4e34ad39",
   "metadata": {},
   "outputs": [
    {
     "name": "stdout",
     "output_type": "stream",
     "text": [
      "Hermoine, Gryffindor, Otter\n",
      "Harry, Gryffindor, Stag\n",
      "Ron, Gryffindor, Jack Russell terrier\n",
      "Draco, Slytherin, None\n"
     ]
    }
   ],
   "source": [
    "students = [\n",
    "    {\"name\": \"Hermoine\", \"house\": \"Gryffindor\", \"patronus\": \"Otter\"},\n",
    "    {\"name\": \"Harry\", \"house\": \"Gryffindor\", \"patronus\": \"Stag\"},\n",
    "    {\"name\": \"Ron\", \"house\": \"Gryffindor\", \"patronus\": \"Jack Russell terrier\"},\n",
    "    {\"name\": \"Draco\", \"house\": \"Slytherin\", \"patronus\": None},\n",
    "]\n",
    "\n",
    "for student in students:\n",
    "    print(student[\"name\"], student[\"house\"], student[\"patronus\"], sep=\", \")"
   ]
  },
  {
   "cell_type": "code",
   "execution_count": 4,
   "id": "ebe2bf23",
   "metadata": {},
   "outputs": [
    {
     "name": "stdout",
     "output_type": "stream",
     "text": [
      "#\n",
      "#\n",
      "#\n"
     ]
    }
   ],
   "source": [
    "def main():\n",
    "    print_column(3)\n",
    "\n",
    "\n",
    "def print_column(height):\n",
    "    for _ in range(height):\n",
    "        print(\"#\")\n",
    "\n",
    "\n",
    "main()"
   ]
  },
  {
   "cell_type": "code",
   "execution_count": 5,
   "id": "a995d848",
   "metadata": {
    "scrolled": true
   },
   "outputs": [
    {
     "name": "stdout",
     "output_type": "stream",
     "text": [
      "###\n",
      "###\n",
      "###\n"
     ]
    }
   ],
   "source": [
    "def main():\n",
    "    print_square(3)\n",
    "\n",
    "\n",
    "def print_square(size):\n",
    "\n",
    "    # For each row in square\n",
    "    for i in range(size):\n",
    "\n",
    "        # For each brick in row\n",
    "        for j in range(size):\n",
    "\n",
    "            #  Print brick\n",
    "            print(\"#\", end=\"\")\n",
    "\n",
    "        # Print blank line\n",
    "        print()\n",
    "\n",
    "\n",
    "main()"
   ]
  },
  {
   "cell_type": "code",
   "execution_count": 6,
   "id": "f5532319",
   "metadata": {},
   "outputs": [
    {
     "name": "stdout",
     "output_type": "stream",
     "text": [
      "###\n",
      "###\n",
      "###\n"
     ]
    }
   ],
   "source": [
    "def main():\n",
    "    print_square(3)\n",
    "\n",
    "\n",
    "def print_square(size):\n",
    "    for i in range(size):\n",
    "        print_row(size)\n",
    "\n",
    "\n",
    "def print_row(width):\n",
    "    print(\"#\" * width)\n",
    "\n",
    "\n",
    "main()"
   ]
  },
  {
   "cell_type": "code",
   "execution_count": 11,
   "id": "5be61b12",
   "metadata": {},
   "outputs": [
    {
     "name": "stdout",
     "output_type": "stream",
     "text": [
      "first_name"
     ]
    }
   ],
   "source": [
    "camel = 'firstName'\n",
    "for letter in camel:\n",
    "    if letter.isupper():\n",
    "        print('_'+letter.lower(),end='')\n",
    "    else:\n",
    "        print(letter, end='')\n",
    "    "
   ]
  },
  {
   "cell_type": "code",
   "execution_count": 12,
   "id": "b293d099",
   "metadata": {},
   "outputs": [
    {
     "name": "stdout",
     "output_type": "stream",
     "text": [
      "first_name\n"
     ]
    }
   ],
   "source": [
    "def camel_to_snake(camel):\n",
    "    #create variable to hold return string\n",
    "    snake = ''\n",
    "    \n",
    "    #parse input to check for case and replace upper case with underscore and lower case\n",
    "    for letter in camel:\n",
    "        if letter.isupper():\n",
    "            snake = snake + '_'+letter.lower()\n",
    "        else:\n",
    "            snake = snake + letter\n",
    "    \n",
    "    return(snake)\n",
    "\n",
    "camel = 'firstName'\n",
    "print(camel_to_snake(camel))"
   ]
  },
  {
   "cell_type": "code",
   "execution_count": 13,
   "id": "65be6753",
   "metadata": {},
   "outputs": [],
   "source": [
    "num = -7"
   ]
  },
  {
   "cell_type": "code",
   "execution_count": 14,
   "id": "6a06f209",
   "metadata": {},
   "outputs": [
    {
     "data": {
      "text/plain": [
       "-7"
      ]
     },
     "execution_count": 14,
     "metadata": {},
     "output_type": "execute_result"
    }
   ],
   "source": [
    "num"
   ]
  },
  {
   "cell_type": "code",
   "execution_count": 42,
   "id": "d28d41bf",
   "metadata": {},
   "outputs": [
    {
     "data": {
      "text/plain": [
       "'CS0'"
      ]
     },
     "execution_count": 42,
     "metadata": {},
     "output_type": "execute_result"
    }
   ],
   "source": [
    "plate = 'CS05'\n",
    "plate[0:3]"
   ]
  },
  {
   "cell_type": "code",
   "execution_count": 41,
   "id": "d8723c45",
   "metadata": {},
   "outputs": [
    {
     "data": {
      "text/plain": [
       "'CS0'"
      ]
     },
     "execution_count": 41,
     "metadata": {},
     "output_type": "execute_result"
    }
   ],
   "source": [
    "plate[0:3]"
   ]
  },
  {
   "cell_type": "code",
   "execution_count": 7,
   "id": "3f0b669e",
   "metadata": {},
   "outputs": [
    {
     "data": {
      "text/plain": [
       "True"
      ]
     },
     "execution_count": 7,
     "metadata": {},
     "output_type": "execute_result"
    }
   ],
   "source": [
    "2 <= len(plate) <=6"
   ]
  },
  {
   "cell_type": "code",
   "execution_count": 38,
   "id": "bb1aa11b",
   "metadata": {},
   "outputs": [
    {
     "data": {
      "text/plain": [
       "False"
      ]
     },
     "execution_count": 38,
     "metadata": {},
     "output_type": "execute_result"
    }
   ],
   "source": [
    "def check_chars(p):\n",
    "    valid_chars = True\n",
    "    \n",
    "    #if entire string is letters continue\n",
    "    if p.isalpha():\n",
    "        pass\n",
    "    else:\n",
    "        num_in_str = False\n",
    "        pos = 2\n",
    "        #check that the first number is not 0 and find position of \n",
    "        for char in p[2:]:\n",
    "            if char.isdigit():\n",
    "                if char == '0' and not num_in_str:\n",
    "                    valid_chars = False\n",
    "                    break\n",
    "                else:\n",
    "                    num_in_str = True\n",
    "                    break\n",
    "            else:\n",
    "                pos += 1          \n",
    "        #check that numbers are only at the end\n",
    "        if not p[pos:].isdigit():\n",
    "            valid_chars = False\n",
    "    \n",
    "    return (valid_chars)        \n",
    "\n",
    "check_chars(plate)\n"
   ]
  },
  {
   "cell_type": "code",
   "execution_count": 43,
   "id": "b18e2ef7",
   "metadata": {},
   "outputs": [
    {
     "data": {
      "text/plain": [
       "'Doc\\\\'"
      ]
     },
     "execution_count": 43,
     "metadata": {},
     "output_type": "execute_result"
    }
   ],
   "source": [
    "\"Doc\\\\\""
   ]
  },
  {
   "cell_type": "code",
   "execution_count": 44,
   "id": "913c035a",
   "metadata": {},
   "outputs": [
    {
     "ename": "SyntaxError",
     "evalue": "EOL while scanning string literal (3241942640.py, line 1)",
     "output_type": "error",
     "traceback": [
      "\u001b[0;36m  Input \u001b[0;32mIn [44]\u001b[0;36m\u001b[0m\n\u001b[0;31m    \"Doc\\\"\u001b[0m\n\u001b[0m          ^\u001b[0m\n\u001b[0;31mSyntaxError\u001b[0m\u001b[0;31m:\u001b[0m EOL while scanning string literal\n"
     ]
    }
   ],
   "source": [
    "\"Doc\\\""
   ]
  },
  {
   "cell_type": "code",
   "execution_count": 45,
   "id": "ccd07b1c",
   "metadata": {},
   "outputs": [
    {
     "ename": "SyntaxError",
     "evalue": "EOL while scanning string literal (1190372987.py, line 1)",
     "output_type": "error",
     "traceback": [
      "\u001b[0;36m  Input \u001b[0;32mIn [45]\u001b[0;36m\u001b[0m\n\u001b[0;31m    'Doc\\'\u001b[0m\n\u001b[0m          ^\u001b[0m\n\u001b[0;31mSyntaxError\u001b[0m\u001b[0;31m:\u001b[0m EOL while scanning string literal\n"
     ]
    }
   ],
   "source": [
    "'Doc\\'"
   ]
  },
  {
   "cell_type": "code",
   "execution_count": 47,
   "id": "3512b8df",
   "metadata": {},
   "outputs": [
    {
     "data": {
      "text/plain": [
       "'Doc\\\\'"
      ]
     },
     "execution_count": 47,
     "metadata": {},
     "output_type": "execute_result"
    }
   ],
   "source": [
    "'Doc\\\\'"
   ]
  },
  {
   "cell_type": "code",
   "execution_count": 49,
   "id": "7b2e48ec",
   "metadata": {},
   "outputs": [
    {
     "name": "stdout",
     "output_type": "stream",
     "text": [
      "Doc\\\\\n"
     ]
    }
   ],
   "source": [
    "print(r'Doc\\\\')"
   ]
  },
  {
   "cell_type": "code",
   "execution_count": 50,
   "id": "569b3b7f",
   "metadata": {},
   "outputs": [
    {
     "data": {
      "text/plain": [
       "'\\\\\"'"
      ]
     },
     "execution_count": 50,
     "metadata": {},
     "output_type": "execute_result"
    }
   ],
   "source": [
    "r\"\\\"\""
   ]
  },
  {
   "cell_type": "code",
   "execution_count": 51,
   "id": "fb41a39f",
   "metadata": {},
   "outputs": [
    {
     "data": {
      "text/plain": [
       "'\\\\'"
      ]
     },
     "execution_count": 51,
     "metadata": {},
     "output_type": "execute_result"
    }
   ],
   "source": [
    "\"\\\\\""
   ]
  },
  {
   "cell_type": "code",
   "execution_count": 52,
   "id": "cbdab482",
   "metadata": {},
   "outputs": [
    {
     "data": {
      "text/plain": [
       "'\\\\\\\\'"
      ]
     },
     "execution_count": 52,
     "metadata": {},
     "output_type": "execute_result"
    }
   ],
   "source": [
    "r\"\\\\\""
   ]
  },
  {
   "cell_type": "code",
   "execution_count": 53,
   "id": "f4f9c3f6",
   "metadata": {},
   "outputs": [
    {
     "data": {
      "text/plain": [
       "'Doc\\\\'"
      ]
     },
     "execution_count": 53,
     "metadata": {},
     "output_type": "execute_result"
    }
   ],
   "source": [
    "r\"Doc\"'\\\\'"
   ]
  },
  {
   "cell_type": "code",
   "execution_count": 54,
   "id": "2c840cd0",
   "metadata": {},
   "outputs": [
    {
     "data": {
      "text/plain": [
       "'\\\\'"
      ]
     },
     "execution_count": 54,
     "metadata": {},
     "output_type": "execute_result"
    }
   ],
   "source": [
    "chr(92)"
   ]
  },
  {
   "cell_type": "code",
   "execution_count": 56,
   "id": "1ea6f16c",
   "metadata": {},
   "outputs": [
    {
     "data": {
      "text/plain": [
       "'This is a string\" '"
      ]
     },
     "execution_count": 56,
     "metadata": {},
     "output_type": "execute_result"
    }
   ],
   "source": [
    "\"This is a string\\\" \""
   ]
  },
  {
   "cell_type": "code",
   "execution_count": 57,
   "id": "be6f0a71",
   "metadata": {},
   "outputs": [
    {
     "data": {
      "text/plain": [
       "'\\\\'"
      ]
     },
     "execution_count": 57,
     "metadata": {},
     "output_type": "execute_result"
    }
   ],
   "source": [
    "\"\\\\\""
   ]
  },
  {
   "cell_type": "code",
   "execution_count": 58,
   "id": "3f541ab1",
   "metadata": {},
   "outputs": [
    {
     "name": "stdout",
     "output_type": "stream",
     "text": [
      "\\\n"
     ]
    }
   ],
   "source": [
    "text = \"\\\\\"\n",
    "print(text)"
   ]
  },
  {
   "cell_type": "code",
   "execution_count": 61,
   "id": "3f4a6a36",
   "metadata": {},
   "outputs": [
    {
     "name": "stdout",
     "output_type": "stream",
     "text": [
      "Doc\\\"\n"
     ]
    }
   ],
   "source": [
    "text2 = r\"Doc\\\"\"\n",
    "print(text2)"
   ]
  },
  {
   "cell_type": "code",
   "execution_count": 62,
   "id": "18952517",
   "metadata": {},
   "outputs": [],
   "source": [
    "import os"
   ]
  },
  {
   "cell_type": "code",
   "execution_count": 63,
   "id": "e9ca3890",
   "metadata": {},
   "outputs": [
    {
     "ename": "TypeError",
     "evalue": "fspath() missing required argument 'path' (pos 1)",
     "output_type": "error",
     "traceback": [
      "\u001b[0;31m---------------------------------------------------------------------------\u001b[0m",
      "\u001b[0;31mTypeError\u001b[0m                                 Traceback (most recent call last)",
      "Input \u001b[0;32mIn [63]\u001b[0m, in \u001b[0;36m<cell line: 1>\u001b[0;34m()\u001b[0m\n\u001b[0;32m----> 1\u001b[0m \u001b[38;5;28mprint\u001b[39m(\u001b[43mos\u001b[49m\u001b[38;5;241;43m.\u001b[39;49m\u001b[43mfspath\u001b[49m\u001b[43m(\u001b[49m\u001b[43m)\u001b[49m)\n",
      "\u001b[0;31mTypeError\u001b[0m: fspath() missing required argument 'path' (pos 1)"
     ]
    }
   ],
   "source": [
    "print(os.fspath())"
   ]
  },
  {
   "cell_type": "code",
   "execution_count": 64,
   "id": "778b3dbf",
   "metadata": {},
   "outputs": [
    {
     "data": {
      "text/plain": [
       "environ{'TERM_SESSION_ID': 'w2t0p0:0B2AC81B-1379-4ABC-BC9C-FD915EB1926E',\n",
       "        'SSH_AUTH_SOCK': '/private/tmp/com.apple.launchd.IE7yJVzhJL/Listeners',\n",
       "        'LC_TERMINAL_VERSION': '3.4.16',\n",
       "        'COLORFGBG': '15;0',\n",
       "        'ITERM_PROFILE': 'Default',\n",
       "        'XPC_FLAGS': '0x0',\n",
       "        'LANG': 'en_US.UTF-8',\n",
       "        'PWD': '/Users/matt',\n",
       "        'SHELL': '/bin/zsh',\n",
       "        '__CFBundleIdentifier': 'com.googlecode.iterm2',\n",
       "        'TERM_PROGRAM_VERSION': '3.4.16',\n",
       "        'TERM_PROGRAM': 'iTerm.app',\n",
       "        'PATH': '/Users/matt/opt/anaconda3/bin:/Users/matt/opt/anaconda3/condabin:/opt/homebrew/bin:/opt/homebrew/sbin:/usr/local/bin:/usr/bin:/bin:/usr/sbin:/sbin:/Library/Apple/usr/bin',\n",
       "        'LC_TERMINAL': 'iTerm2',\n",
       "        'COLORTERM': 'truecolor',\n",
       "        'COMMAND_MODE': 'unix2003',\n",
       "        'TERM': 'xterm-color',\n",
       "        'HOME': '/Users/matt',\n",
       "        'TMPDIR': '/var/folders/jw/x8qx8p4s749cv2jcz2hv8q180000gn/T/',\n",
       "        'USER': 'matt',\n",
       "        'XPC_SERVICE_NAME': '0',\n",
       "        'LOGNAME': 'matt',\n",
       "        'ITERM_SESSION_ID': 'w2t0p0:0B2AC81B-1379-4ABC-BC9C-FD915EB1926E',\n",
       "        '__CF_USER_TEXT_ENCODING': '0x1F5:0x0:0x0',\n",
       "        'SHLVL': '1',\n",
       "        'OLDPWD': '/Users/matt',\n",
       "        'HOMEBREW_PREFIX': '/opt/homebrew',\n",
       "        'HOMEBREW_CELLAR': '/opt/homebrew/Cellar',\n",
       "        'HOMEBREW_REPOSITORY': '/opt/homebrew',\n",
       "        'MANPATH': '/opt/homebrew/share/man::',\n",
       "        'INFOPATH': '/opt/homebrew/share/info:',\n",
       "        'CONDA_EXE': '/Users/matt/opt/anaconda3/bin/conda',\n",
       "        '_CE_M': '',\n",
       "        '_CE_CONDA': '',\n",
       "        'CONDA_PYTHON_EXE': '/Users/matt/opt/anaconda3/bin/python',\n",
       "        'CONDA_SHLVL': '1',\n",
       "        'CONDA_PREFIX': '/Users/matt/opt/anaconda3',\n",
       "        'CONDA_DEFAULT_ENV': 'base',\n",
       "        'CONDA_PROMPT_MODIFIER': '(base) ',\n",
       "        '_': '/Users/matt/opt/anaconda3/bin/jupyter',\n",
       "        'PYDEVD_USE_FRAME_EVAL': 'NO',\n",
       "        'JPY_PARENT_PID': '5301',\n",
       "        'CLICOLOR': '1',\n",
       "        'PAGER': 'cat',\n",
       "        'GIT_PAGER': 'cat',\n",
       "        'MPLBACKEND': 'module://matplotlib_inline.backend_inline'}"
      ]
     },
     "execution_count": 64,
     "metadata": {},
     "output_type": "execute_result"
    }
   ],
   "source": [
    "os.environ"
   ]
  },
  {
   "cell_type": "code",
   "execution_count": 65,
   "id": "5cd6a5bb",
   "metadata": {},
   "outputs": [
    {
     "ename": "NameError",
     "evalue": "name 'path' is not defined",
     "output_type": "error",
     "traceback": [
      "\u001b[0;31m---------------------------------------------------------------------------\u001b[0m",
      "\u001b[0;31mNameError\u001b[0m                                 Traceback (most recent call last)",
      "Input \u001b[0;32mIn [65]\u001b[0m, in \u001b[0;36m<cell line: 1>\u001b[0;34m()\u001b[0m\n\u001b[0;32m----> 1\u001b[0m os\u001b[38;5;241m.\u001b[39mstat(\u001b[43mpath\u001b[49m)\n",
      "\u001b[0;31mNameError\u001b[0m: name 'path' is not defined"
     ]
    }
   ],
   "source": [
    "os.stat(path)"
   ]
  },
  {
   "cell_type": "code",
   "execution_count": 66,
   "id": "91d3f87c",
   "metadata": {},
   "outputs": [],
   "source": [
    "fuel = '1/4'"
   ]
  },
  {
   "cell_type": "code",
   "execution_count": 67,
   "id": "57a0615d",
   "metadata": {},
   "outputs": [
    {
     "data": {
      "text/plain": [
       "'1'"
      ]
     },
     "execution_count": 67,
     "metadata": {},
     "output_type": "execute_result"
    }
   ],
   "source": [
    "fuel.split('/')[0]"
   ]
  },
  {
   "cell_type": "code",
   "execution_count": 68,
   "id": "d7a913b7",
   "metadata": {},
   "outputs": [
    {
     "ename": "TypeError",
     "evalue": "unsupported operand type(s) for /: 'str' and 'str'",
     "output_type": "error",
     "traceback": [
      "\u001b[0;31m---------------------------------------------------------------------------\u001b[0m",
      "\u001b[0;31mTypeError\u001b[0m                                 Traceback (most recent call last)",
      "Input \u001b[0;32mIn [68]\u001b[0m, in \u001b[0;36m<cell line: 3>\u001b[0;34m()\u001b[0m\n\u001b[1;32m      1\u001b[0m x \u001b[38;5;241m=\u001b[39m fuel\u001b[38;5;241m.\u001b[39msplit(\u001b[38;5;124m'\u001b[39m\u001b[38;5;124m/\u001b[39m\u001b[38;5;124m'\u001b[39m)[\u001b[38;5;241m0\u001b[39m]\n\u001b[1;32m      2\u001b[0m y \u001b[38;5;241m=\u001b[39m fuel\u001b[38;5;241m.\u001b[39msplit(\u001b[38;5;124m'\u001b[39m\u001b[38;5;124m/\u001b[39m\u001b[38;5;124m'\u001b[39m)[\u001b[38;5;241m1\u001b[39m]\n\u001b[0;32m----> 3\u001b[0m \u001b[43mx\u001b[49m\u001b[38;5;241;43m/\u001b[39;49m\u001b[43my\u001b[49m\n",
      "\u001b[0;31mTypeError\u001b[0m: unsupported operand type(s) for /: 'str' and 'str'"
     ]
    }
   ],
   "source": [
    "x = fuel.split('/')[0]\n",
    "y = fuel.split('/')[1]\n",
    "x/y"
   ]
  },
  {
   "cell_type": "code",
   "execution_count": 70,
   "id": "6e9a7f4e",
   "metadata": {},
   "outputs": [
    {
     "data": {
      "text/plain": [
       "25.0"
      ]
     },
     "execution_count": 70,
     "metadata": {},
     "output_type": "execute_result"
    }
   ],
   "source": [
    "1/4*100"
   ]
  },
  {
   "cell_type": "code",
   "execution_count": 71,
   "id": "6aa127c8",
   "metadata": {},
   "outputs": [],
   "source": [
    "list = dict()"
   ]
  },
  {
   "cell_type": "code",
   "execution_count": 72,
   "id": "12060596",
   "metadata": {},
   "outputs": [
    {
     "data": {
      "text/plain": [
       "{}"
      ]
     },
     "execution_count": 72,
     "metadata": {},
     "output_type": "execute_result"
    }
   ],
   "source": [
    "list"
   ]
  },
  {
   "cell_type": "code",
   "execution_count": 77,
   "id": "4f008e9f",
   "metadata": {},
   "outputs": [],
   "source": [
    "list = {\n",
    "    'item':1\n",
    "}"
   ]
  },
  {
   "cell_type": "code",
   "execution_count": 78,
   "id": "c3649ceb",
   "metadata": {},
   "outputs": [
    {
     "data": {
      "text/plain": [
       "{'item': 1}"
      ]
     },
     "execution_count": 78,
     "metadata": {},
     "output_type": "execute_result"
    }
   ],
   "source": [
    "list"
   ]
  },
  {
   "cell_type": "code",
   "execution_count": 82,
   "id": "0d1d7f1c",
   "metadata": {},
   "outputs": [
    {
     "name": "stdout",
     "output_type": "stream",
     "text": [
      "      bananaaa\n"
     ]
    }
   ],
   "source": [
    "item = input().strip().upper()"
   ]
  },
  {
   "cell_type": "code",
   "execution_count": 85,
   "id": "9d740086",
   "metadata": {},
   "outputs": [
    {
     "data": {
      "text/plain": [
       "True"
      ]
     },
     "execution_count": 85,
     "metadata": {},
     "output_type": "execute_result"
    }
   ],
   "source": [
    "not item in list"
   ]
  },
  {
   "cell_type": "code",
   "execution_count": 86,
   "id": "dd01652b",
   "metadata": {},
   "outputs": [],
   "source": [
    "list.update({item:1})"
   ]
  },
  {
   "cell_type": "code",
   "execution_count": 87,
   "id": "52eaa629",
   "metadata": {},
   "outputs": [
    {
     "data": {
      "text/plain": [
       "{'item': 1, 'BANANAAA': 1}"
      ]
     },
     "execution_count": 87,
     "metadata": {},
     "output_type": "execute_result"
    }
   ],
   "source": [
    "list"
   ]
  },
  {
   "cell_type": "code",
   "execution_count": 94,
   "id": "c953a641",
   "metadata": {},
   "outputs": [],
   "source": [
    "list.update({item:1})"
   ]
  },
  {
   "cell_type": "code",
   "execution_count": 89,
   "id": "a493d4bb",
   "metadata": {},
   "outputs": [],
   "source": [
    "list[item] += 1"
   ]
  },
  {
   "cell_type": "code",
   "execution_count": 90,
   "id": "a2a443e4",
   "metadata": {},
   "outputs": [
    {
     "data": {
      "text/plain": [
       "{'item': 1, 'BANANAAA': 2}"
      ]
     },
     "execution_count": 90,
     "metadata": {},
     "output_type": "execute_result"
    }
   ],
   "source": [
    "list"
   ]
  },
  {
   "cell_type": "code",
   "execution_count": 92,
   "id": "37235054",
   "metadata": {},
   "outputs": [],
   "source": [
    "item = 'APPLE'"
   ]
  },
  {
   "cell_type": "code",
   "execution_count": 95,
   "id": "39aee1c0",
   "metadata": {},
   "outputs": [
    {
     "data": {
      "text/plain": [
       "False"
      ]
     },
     "execution_count": 95,
     "metadata": {},
     "output_type": "execute_result"
    }
   ],
   "source": [
    "not item in list"
   ]
  },
  {
   "cell_type": "code",
   "execution_count": 96,
   "id": "16358fd5",
   "metadata": {},
   "outputs": [
    {
     "data": {
      "text/plain": [
       "{'item': 1, 'BANANAAA': 2, 'APPLE': 1}"
      ]
     },
     "execution_count": 96,
     "metadata": {},
     "output_type": "execute_result"
    }
   ],
   "source": [
    "list"
   ]
  },
  {
   "cell_type": "code",
   "execution_count": null,
   "id": "54d37782",
   "metadata": {},
   "outputs": [],
   "source": []
  }
 ],
 "metadata": {
  "kernelspec": {
   "display_name": "Python 3 (ipykernel)",
   "language": "python",
   "name": "python3"
  },
  "language_info": {
   "codemirror_mode": {
    "name": "ipython",
    "version": 3
   },
   "file_extension": ".py",
   "mimetype": "text/x-python",
   "name": "python",
   "nbconvert_exporter": "python",
   "pygments_lexer": "ipython3",
   "version": "3.9.12"
  }
 },
 "nbformat": 4,
 "nbformat_minor": 5
}
